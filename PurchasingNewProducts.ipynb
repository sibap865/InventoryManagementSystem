{
 "cells": [
  {
   "cell_type": "markdown",
   "metadata": {},
   "source": [
    "# Customer end"
   ]
  },
  {
   "cell_type": "code",
   "execution_count": 1,
   "metadata": {},
   "outputs": [],
   "source": [
    "import json #to convert dictionary into light Java Script notation file\n",
    "import time # to know currrent date and time"
   ]
  },
  {
   "cell_type": "markdown",
   "metadata": {},
   "source": [
    "# inventory details"
   ]
  },
  {
   "cell_type": "code",
   "execution_count": 2,
   "metadata": {},
   "outputs": [],
   "source": [
    "#reading converting the json file into executable dictionary"
   ]
  },
  {
   "cell_type": "code",
   "execution_count": 3,
   "metadata": {},
   "outputs": [],
   "source": [
    "fd = open(\"record.json\",'r')\n",
    "r = fd.read()\n",
    "fd.close()\n",
    "\n",
    "records = json.loads(r)"
   ]
  },
  {
   "cell_type": "code",
   "execution_count": 4,
   "metadata": {},
   "outputs": [
    {
     "data": {
      "text/plain": [
       "{'1001': {'P_Name': 'candy',\n",
       "  'Company_name': 'games',\n",
       "  'P_price': 5,\n",
       "  'P_quantity': 195},\n",
       " '1002': {'P_Name': 'Milk',\n",
       "  'Company_name': 'Omfed',\n",
       "  'P_price': 25,\n",
       "  'P_quantity': 100},\n",
       " '1003': {'P_Name': 'pen',\n",
       "  'Company_name': 'Cello',\n",
       "  'P_price': 10,\n",
       "  'P_quantity': 250},\n",
       " '1004': {'P_Name': 'shampoo',\n",
       "  'Company_name': 'Head_and_solder',\n",
       "  'P_price': 40,\n",
       "  'P_quantity': 500},\n",
       " '1005': {'P_Name': 'CFLbulb',\n",
       "  'Company_name': 'Syska',\n",
       "  'P_price': 120,\n",
       "  'P_quantity': 48},\n",
       " '1006': {'P_Name': 'Butter',\n",
       "  'Company_name': 'Heritage',\n",
       "  'P_price': 200,\n",
       "  'P_quantity': 50},\n",
       " '1007': {'P_Name': 'oil',\n",
       "  'Company_name': 'Fredom',\n",
       "  'P_price': 100,\n",
       "  'P_quantity': 48},\n",
       " '1008': {'P_Name': 'biscuit',\n",
       "  'Company_name': 'Bourborn',\n",
       "  'P_price': 100,\n",
       "  'P_quantity': 48},\n",
       " '1009': {'P_Name': 'Strobery',\n",
       "  'Company_name': 'StroberyStak',\n",
       "  'P_price': 20,\n",
       "  'P_quantity': 68},\n",
       " '1010': {'P_Name': 'sugar',\n",
       "  'Company_name': 'patanjalik',\n",
       "  'P_price': 40,\n",
       "  'P_quantity': 98},\n",
       " '1011': {'P_Name': 'mango_juice',\n",
       "  'Company_name': 'paperboat',\n",
       "  'P_price': 15,\n",
       "  'P_quantity': 97},\n",
       " '1012': {'P_Name': 'hair_oil',\n",
       "  'Company_name': 'kesh_king',\n",
       "  'P_price': 100,\n",
       "  'P_quantity': 50},\n",
       " '1013': {'P_Name': 'flour',\n",
       "  'Company_name': 'Aashirvaad',\n",
       "  'P_price': 40,\n",
       "  'P_quantity': 89},\n",
       " '1014': {'P_Name': 'salt',\n",
       "  'Company_name': 'tata',\n",
       "  'P_price': 20,\n",
       "  'P_quantity': 100},\n",
       " '1015': {'P_Name': 'Moongdal',\n",
       "  'Company_name': 'bigbasket',\n",
       "  'P_price': 80,\n",
       "  'P_quantity': 99},\n",
       " '1016': {'P_Name': 'rice',\n",
       "  'Company_name': 'Basmati',\n",
       "  'P_price': 42,\n",
       "  'P_quantity': 995},\n",
       " '1017': {'P_Name': 'Honey',\n",
       "  'Company_name': 'dabur',\n",
       "  'P_price': 70,\n",
       "  'P_quantity': 30},\n",
       " '1018': {'P_Name': 'Garam Masla',\n",
       "  'Company_name': 'Everest',\n",
       "  'P_price': 80,\n",
       "  'P_quantity': 149},\n",
       " '1019': {'P_Name': 'Egg',\n",
       "  'Company_name': '_____',\n",
       "  'P_price': 8,\n",
       "  'P_quantity': 220},\n",
       " '1020': {'P_Name': 'chilli',\n",
       "  'Company_name': 'tikhalal',\n",
       "  'P_price': 100,\n",
       "  'P_quantity': 198},\n",
       " '1021': {'P_Name': 'Tomato Souce',\n",
       "  'Company_name': 'kissan',\n",
       "  'P_price': 100,\n",
       "  'P_quantity': 49},\n",
       " '1022': {'P_Name': 'cake',\n",
       "  'Company_name': 'Dark Fantacy',\n",
       "  'P_price': 20,\n",
       "  'P_quantity': 71},\n",
       " '1023': {'P_Name': 'agarbati',\n",
       "  'Company_name': 'Madhukunj',\n",
       "  'P_price': 80,\n",
       "  'P_quantity': 98},\n",
       " '1024': {'P_Name': 'pickle',\n",
       "  'Company_name': 'priya_Cut_mango',\n",
       "  'P_price': 20,\n",
       "  'P_quantity': 80},\n",
       " '1025': {'P_Name': 'mixture',\n",
       "  'Company_name': 'haldiram',\n",
       "  'P_price': 140,\n",
       "  'P_quantity': 60},\n",
       " '1026': {'P_Name': 'bread',\n",
       "  'Company_name': 'amul',\n",
       "  'P_price': 20,\n",
       "  'P_quantity': 40},\n",
       " '1027': {'P_Name': 'amul cool',\n",
       "  'Company_name': 'amul',\n",
       "  'P_price': 24,\n",
       "  'P_quantity': 27},\n",
       " '1028': {'P_Name': 'ice_Creem',\n",
       "  'Company_name': 'Arun',\n",
       "  'P_price': 40,\n",
       "  'P_quantity': 26},\n",
       " '1029': {'P_Name': 'face wash',\n",
       "  'Company_name': 'ponds',\n",
       "  'P_price': 150,\n",
       "  'P_quantity': 49},\n",
       " '1030': {'P_Name': 'face creem',\n",
       "  'Company_name': 'fair&lovely',\n",
       "  'P_price': 200,\n",
       "  'P_quantity': 38}}"
      ]
     },
     "execution_count": 4,
     "metadata": {},
     "output_type": "execute_result"
    }
   ],
   "source": [
    "records"
   ]
  },
  {
   "cell_type": "markdown",
   "metadata": {},
   "source": [
    "# Billing"
   ]
  },
  {
   "cell_type": "code",
   "execution_count": 5,
   "metadata": {},
   "outputs": [
    {
     "name": "stdout",
     "output_type": "stream",
     "text": [
      "Enter product id:1028\n",
      "Enter quantity:2\n",
      "Product:  ice_Creem\n",
      "Price:  40\n",
      "Billing Amount:  80\n",
      "Add on product press 1 else press 0 :1\n",
      "Enter product id:1022\n",
      "Enter quantity:2\n",
      "Product:  cake\n",
      "Price:  20\n",
      "Billing Amount:  40\n",
      "Add on product press 1 else press 0 :0\n"
     ]
    }
   ],
   "source": [
    "product_list_id=[]\n",
    "quantity_list=[] \n",
    "Bill_list=[]\n",
    "while True:\n",
    "    product_id = str(input(\"Enter product id:\")) \n",
    "    quantity = int(input(\"Enter quantity:\"))\n",
    "    print(\"Product: \", records[product_id]['P_Name'])\n",
    "    print(\"Price: \", records[product_id]['P_price'])\n",
    "    print(\"Billing Amount: \", records[product_id]['P_price'] *quantity )\n",
    "    if(records[product_id]['P_quantity']>0):\n",
    "        records[product_id]['P_quantity'] = records[product_id]['P_quantity'] - quantity\n",
    "    else:\n",
    "        print(\"product not available\")\n",
    "    product_list_id.append(product_id)\n",
    "    quantity_list.append(quantity)\n",
    "    Bill_list.append(records[product_id]['P_price'] *quantity)\n",
    "    user_response= (input(\"Add on product press 1 else press 0 :\"))\n",
    "    if (user_response=='0'):\n",
    "        break"
   ]
  },
  {
   "cell_type": "markdown",
   "metadata": {},
   "source": [
    "# Bill"
   ]
  },
  {
   "cell_type": "code",
   "execution_count": 7,
   "metadata": {},
   "outputs": [
    {
     "name": "stdout",
     "output_type": "stream",
     "text": [
      "**************Welcome*****************\n",
      "**************************************\n",
      "slno productName Company quantity price\n",
      "_____________________________________\n",
      "  1 -> ice_Creem Arun    2    80\n",
      "  2 -> cake Dark Fantacy    2    40\n",
      "-------------------------------------\n",
      "Your total bill is: 120 ₹\n",
      "Date: Sun Sep  5 20:48:15 2021\n",
      "**************************************\n",
      "Online & offline sopping maade easy\n",
      "Adress-newBuStand,Gunupur,Odisha\n",
      "**************************************\n"
     ]
    }
   ],
   "source": [
    "sum=0\n",
    "\n",
    "for i in range(len(product_list_id)):\n",
    "    if (i==0):\n",
    "        print(\"**************Welcome*****************\")\n",
    "        print(\"**************************************\")\n",
    "        print(\"slno\",\"productName\",\"Company\",\"quantity\",\"price\")\n",
    "        print(\"_____________________________________\")\n",
    "    print(\" \",i+1,\"->\",records[product_list_id[i]]['P_Name'],records[product_list_id[i]]['Company_name'],\"  \",quantity_list[i],\"  \",Bill_list[i])\n",
    "    sum+=Bill_list[i]\n",
    "print(\"-------------------------------------\")\n",
    "print(\"Your total bill is:\",sum,\"₹\")\n",
    "print(\"Date:\",time.ctime())\n",
    "print(\"**************************************\")\n",
    "print(\"Online & offline sopping made easy\")\n",
    "print(\"Adress-newBuStand,Gunupur,Odisha\")\n",
    "print(\"**************************************\")\n"
   ]
  },
  {
   "cell_type": "code",
   "execution_count": 15,
   "metadata": {},
   "outputs": [],
   "source": [
    "# print(product_list_id)\n",
    "# print(quantity_list)\n",
    "# print(Bill_list)"
   ]
  },
  {
   "cell_type": "code",
   "execution_count": 8,
   "metadata": {},
   "outputs": [],
   "source": [
    "js = json.dumps(records)\n",
    "fd = open(\"record.json\",'w')\n",
    "fd.write(js)\n",
    "fd.close()"
   ]
  },
  {
   "cell_type": "code",
   "execution_count": null,
   "metadata": {},
   "outputs": [],
   "source": [
    "# Every day number of sale started from 0  and it will increse"
   ]
  },
  {
   "cell_type": "code",
   "execution_count": 15,
   "metadata": {},
   "outputs": [
    {
     "name": "stdout",
     "output_type": "stream",
     "text": [
      "current day:enter 0 new day enter 1 :0\n",
      "Same day\n"
     ]
    }
   ],
   "source": [
    "day=[\"Same day\",\"newday\"]\n",
    "if(int(input(\"current day:enter 0 new day enter 1 :\"))==0):\n",
    "    print(day[0])\n",
    "    sales=sales\n",
    "    num_of_sale=num_of_sale\n",
    "else:\n",
    "    print(day[1])\n",
    "    sales={}    #created a empty dictionary per day for know daily data\n",
    "    num_of_sale=0"
   ]
  },
  {
   "cell_type": "code",
   "execution_count": 16,
   "metadata": {},
   "outputs": [
    {
     "name": "stdout",
     "output_type": "stream",
     "text": [
      "number of sale today is: 22\n"
     ]
    }
   ],
   "source": [
    "count=0\n",
    "for i in range(len(product_list_id)):\n",
    "    sales[i+num_of_sale]={'prod_id':product_list_id[i] ,'qnantity': quantity,'amount':Bill_list[i]}\n",
    "    count+=1\n",
    "num_of_sale+=count\n",
    "print(\"number of sale today is:\",num_of_sale)"
   ]
  },
  {
   "cell_type": "code",
   "execution_count": 17,
   "metadata": {},
   "outputs": [
    {
     "data": {
      "text/plain": [
       "{'0': {'prod_id': '1023', 'qnantity': 5, 'amount': 160},\n",
       " '1': {'prod_id': '1022', 'qnantity': 5, 'amount': 100},\n",
       " '2': {'prod_id': '1005', 'qnantity': 5, 'amount': 240},\n",
       " '3': {'prod_id': '1015', 'qnantity': 5, 'amount': 80},\n",
       " '4': {'prod_id': '1020', 'qnantity': 5, 'amount': 200},\n",
       " '5': {'prod_id': '1001', 'qnantity': 5, 'amount': 25},\n",
       " '6': {'prod_id': '1023', 'qnantity': 5, 'amount': 160},\n",
       " '7': {'prod_id': '1022', 'qnantity': 5, 'amount': 100},\n",
       " '8': {'prod_id': '1005', 'qnantity': 5, 'amount': 240},\n",
       " '9': {'prod_id': '1015', 'qnantity': 5, 'amount': 80},\n",
       " '10': {'prod_id': '1020', 'qnantity': 5, 'amount': 200},\n",
       " '11': {'prod_id': '1001', 'qnantity': 5, 'amount': 25},\n",
       " '12': {'prod_id': '1028', 'qnantity': 5, 'amount': 80},\n",
       " '13': {'prod_id': '1018', 'qnantity': 5, 'amount': 80},\n",
       " '14': {'prod_id': '1013', 'qnantity': 5, 'amount': 40},\n",
       " '15': {'prod_id': '1016', 'qnantity': 5, 'amount': 210},\n",
       " '16': {'prod_id': '1009', 'qnantity': 1, 'amount': 40},\n",
       " '17': {'prod_id': '1021', 'qnantity': 1, 'amount': 100},\n",
       " 18: {'prod_id': '1028', 'qnantity': 2, 'amount': 80},\n",
       " 19: {'prod_id': '1022', 'qnantity': 2, 'amount': 40},\n",
       " 20: {'prod_id': '1028', 'qnantity': 2, 'amount': 80},\n",
       " 21: {'prod_id': '1022', 'qnantity': 2, 'amount': 40}}"
      ]
     },
     "execution_count": 17,
     "metadata": {},
     "output_type": "execute_result"
    }
   ],
   "source": [
    "# now we have the sales record\n",
    "sales"
   ]
  },
  {
   "cell_type": "code",
   "execution_count": 13,
   "metadata": {},
   "outputs": [],
   "source": [
    "sale = json.dumps(sales)\n",
    "\n",
    "fd = open(\"sales.json\",'w')\n",
    "fd.write(sale)\n",
    "fd.close()"
   ]
  },
  {
   "cell_type": "code",
   "execution_count": null,
   "metadata": {},
   "outputs": [],
   "source": []
  }
 ],
 "metadata": {
  "kernelspec": {
   "display_name": "Python 3",
   "language": "python",
   "name": "python3"
  },
  "language_info": {
   "codemirror_mode": {
    "name": "ipython",
    "version": 3
   },
   "file_extension": ".py",
   "mimetype": "text/x-python",
   "name": "python",
   "nbconvert_exporter": "python",
   "pygments_lexer": "ipython3",
   "version": "3.8.5"
  }
 },
 "nbformat": 4,
 "nbformat_minor": 4
}

{
 "cells": [
  {
   "cell_type": "markdown",
   "metadata": {},
   "source": [
    "# shop keeper end "
   ]
  },
  {
   "cell_type": "markdown",
   "metadata": {},
   "source": [
    "## old products"
   ]
  },
  {
   "cell_type": "code",
   "execution_count": 61,
   "metadata": {},
   "outputs": [],
   "source": [
    "# record= {1001:{\"P_Name\":\"candy\",\"Company_name\":\"games\",\"P_price\":5,\"P_quantity\":200},\n",
    "#         1002:{\"P_Name\":\"Milk\",\"Company_name\":\"Omfed\",\"P_price\":25,\"P_quantity\":100},\n",
    "#         1003:{\"P_Name\":\"pen\",\"Company_name\":\"Cello\",\"P_price\":10,\"P_quantity\":250},\n",
    "#         1004:{\"P_Name\":\"shampoo\",\"Company_name\":\"Head_and_solder\",\"P_price\":40,\"P_quantity\":500},\n",
    "#         1005:{\"P_Name\":\"CFLbulb\",\"Company_name\":\"Syska\",\"P_price\":120,\"P_quantity\":50},\n",
    "#         1006:{\"P_Name\":\"Butter\",\"Company_name\":\"Heritage\",\"P_price\":200,\"P_quantity\":50},\n",
    "#         1007:{\"P_Name\":\"oil\",\"Company_name\":\"Fredom\",\"P_price\":100,\"P_quantity\":50},\n",
    "#         1008:{\"P_Name\":\"biscuit\",\"Company_name\":\"Bourborn\",\"P_price\":100,\"P_quantity\":50},\n",
    "#         1009:{\"P_Name\":\"Strobery\",\"Company_name\":\"StroberyStak\",\"P_price\":20,\"P_quantity\":70},\n",
    "#         1010:{\"P_Name\":\"sugar\",\"Company_name\":\"patanjalik\",\"P_price\":40,\"P_quantity\":100}}\n",
    "            \n"
   ]
  },
  {
   "cell_type": "code",
   "execution_count": 84,
   "metadata": {},
   "outputs": [],
   "source": [
    "# products"
   ]
  },
  {
   "cell_type": "code",
   "execution_count": 69,
   "metadata": {},
   "outputs": [
    {
     "name": "stdout",
     "output_type": "stream",
     "text": [
      "{'P_Name': 'candy', 'Company_name': 'games', 'P_price': 5, 'P_quantity': 200}\n",
      "{'P_Name': 'Milk', 'Company_name': 'Omfed', 'P_price': 25, 'P_quantity': 100}\n",
      "{'P_Name': 'pen', 'Company_name': 'Cello', 'P_price': 10, 'P_quantity': 250}\n",
      "{'P_Name': 'shampoo', 'Company_name': 'Head_and_solder', 'P_price': 40, 'P_quantity': 500}\n",
      "{'P_Name': 'CFLbulb', 'Company_name': 'Syska', 'P_price': 120, 'P_quantity': 50}\n",
      "{'P_Name': 'Butter', 'Company_name': 'Heritage', 'P_price': 200, 'P_quantity': 50}\n",
      "{'P_Name': 'oil', 'Company_name': 'Fredom', 'P_price': 100, 'P_quantity': 50}\n",
      "{'P_Name': 'biscuit', 'Company_name': 'Bourborn', 'P_price': 100, 'P_quantity': 50}\n",
      "{'P_Name': 'Strobery', 'Company_name': 'StroberyStak', 'P_price': 20, 'P_quantity': 70}\n",
      "{'P_Name': 'sugar', 'Company_name': 'patanjalik', 'P_price': 40, 'P_quantity': 100}\n",
      "{'P_Name': 'mango_juice', 'Company_name': 'paperboat', 'P_price': 15, 'P_quantity': 100}\n",
      "{'P_Name': 'hair_oil', 'Company_name': 'kesh_king', 'P_price': 100, 'P_quantity': 50}\n",
      "{'P_Name': 'flour', 'Company_name': 'Aashirvaad', 'P_price': 40, 'P_quantity': 90}\n",
      "{'P_Name': 'salt', 'Company_name': 'tata', 'P_price': 20, 'P_quantity': 100}\n",
      "{'P_Name': 'Moongdal', 'Company_name': 'bigbasket', 'P_price': 80, 'P_quantity': 100}\n",
      "{'P_Name': 'rice', 'Company_name': 'Basmati', 'P_price': 42, 'P_quantity': 1000}\n",
      "{'P_Name': 'Honey', 'Company_name': 'dabur', 'P_price': 70, 'P_quantity': 30}\n",
      "{'P_Name': 'Garam Masla', 'Company_name': 'Everest', 'P_price': 80, 'P_quantity': 150}\n"
     ]
    }
   ],
   "source": [
    "for i in record:\n",
    "    print(record[i])"
   ]
  },
  {
   "cell_type": "code",
   "execution_count": 63,
   "metadata": {},
   "outputs": [],
   "source": [
    "import json"
   ]
  },
  {
   "cell_type": "code",
   "execution_count": 64,
   "metadata": {},
   "outputs": [],
   "source": [
    "js =json.dumps(record)"
   ]
  },
  {
   "cell_type": "code",
   "execution_count": 29,
   "metadata": {},
   "outputs": [],
   "source": [
    "fd = open(\"record.json\",'w')\n",
    "fd.write(js)\n",
    "fd.close()"
   ]
  },
  {
   "cell_type": "markdown",
   "metadata": {},
   "source": [
    "# Aading new product"
   ]
  },
  {
   "cell_type": "code",
   "execution_count": 79,
   "metadata": {},
   "outputs": [],
   "source": [
    "fd = open(\"record.json\",'r')\n",
    "r = fd.read()\n",
    "fd.close()\n",
    "\n",
    "record = json.loads(r)"
   ]
  },
  {
   "cell_type": "code",
   "execution_count": 80,
   "metadata": {},
   "outputs": [
    {
     "name": "stdout",
     "output_type": "stream",
     "text": [
      "Enter product id:1029\n",
      "Enter product name:face wash\n",
      "Enter Company name:ponds\n",
      "Enter product price:150\n",
      "Enter quantity:50\n",
      "want to enter new data press 1 else press 0 :1\n",
      "Enter product id:1030\n",
      "Enter product name:face creem\n",
      "Enter Company name:fair&lovely\n",
      "Enter product price:200\n",
      "Enter quantity:40\n",
      "want to enter new data press 1 else press 0 :0\n"
     ]
    }
   ],
   "source": [
    "while True:\n",
    "    prod_id = input(\"Enter product id:\")\n",
    "    P_Name = str(input(\"Enter product name:\"))\n",
    "    Company_name = str(input(\"Enter Company name:\"))\n",
    "    P_price = int(input(\"Enter product price:\"))\n",
    "    P_quantity = int(input(\"Enter quantity:\"))\n",
    "    user_response= (input(\"want to enter new data press 1 else press 0 :\"))\n",
    "    record[prod_id] = {\"P_Name\":P_Name,\"Company_name\":Company_name,\"P_price\":P_price,\"P_quantity\":P_quantity}\n",
    "\n",
    "    js = json.dumps(record)\n",
    "\n",
    "    fd = open(\"record.json\",'w') \n",
    "    fd.write(js)\n",
    "    fd.close()\n",
    "    if (user_response=='0'):\n",
    "        break"
   ]
  },
  {
   "cell_type": "code",
   "execution_count": 85,
   "metadata": {},
   "outputs": [],
   "source": [
    "fd = open(\"record.json\",'r')\n",
    "r = fd.read()\n",
    "fd.close()\n",
    "\n",
    "record = json.loads(r)"
   ]
  },
  {
   "cell_type": "code",
   "execution_count": 86,
   "metadata": {},
   "outputs": [
    {
     "name": "stdout",
     "output_type": "stream",
     "text": [
      "{'P_Name': 'candy', 'Company_name': 'games', 'P_price': 5, 'P_quantity': 200}\n",
      "{'P_Name': 'Milk', 'Company_name': 'Omfed', 'P_price': 25, 'P_quantity': 100}\n",
      "{'P_Name': 'pen', 'Company_name': 'Cello', 'P_price': 10, 'P_quantity': 250}\n",
      "{'P_Name': 'shampoo', 'Company_name': 'Head_and_solder', 'P_price': 40, 'P_quantity': 500}\n",
      "{'P_Name': 'CFLbulb', 'Company_name': 'Syska', 'P_price': 120, 'P_quantity': 50}\n",
      "{'P_Name': 'Butter', 'Company_name': 'Heritage', 'P_price': 200, 'P_quantity': 50}\n",
      "{'P_Name': 'oil', 'Company_name': 'Fredom', 'P_price': 100, 'P_quantity': 50}\n",
      "{'P_Name': 'biscuit', 'Company_name': 'Bourborn', 'P_price': 100, 'P_quantity': 50}\n",
      "{'P_Name': 'Strobery', 'Company_name': 'StroberyStak', 'P_price': 20, 'P_quantity': 70}\n",
      "{'P_Name': 'sugar', 'Company_name': 'patanjalik', 'P_price': 40, 'P_quantity': 100}\n",
      "{'P_Name': 'mango_juice', 'Company_name': 'paperboat', 'P_price': 15, 'P_quantity': 100}\n",
      "{'P_Name': 'hair_oil', 'Company_name': 'kesh_king', 'P_price': 100, 'P_quantity': 50}\n",
      "{'P_Name': 'flour', 'Company_name': 'Aashirvaad', 'P_price': 40, 'P_quantity': 90}\n",
      "{'P_Name': 'salt', 'Company_name': 'tata', 'P_price': 20, 'P_quantity': 100}\n",
      "{'P_Name': 'Moongdal', 'Company_name': 'bigbasket', 'P_price': 80, 'P_quantity': 100}\n",
      "{'P_Name': 'rice', 'Company_name': 'Basmati', 'P_price': 42, 'P_quantity': 1000}\n",
      "{'P_Name': 'Honey', 'Company_name': 'dabur', 'P_price': 70, 'P_quantity': 30}\n",
      "{'P_Name': 'Garam Masla', 'Company_name': 'Everest', 'P_price': 80, 'P_quantity': 150}\n",
      "{'P_Name': 'Egg', 'Company_name': '_____', 'P_price': 8, 'P_quantity': 220}\n",
      "{'P_Name': 'chilli', 'Company_name': 'tikhalal', 'P_price': 100, 'P_quantity': 200}\n",
      "{'P_Name': 'Tomato Souce', 'Company_name': 'kissan', 'P_price': 100, 'P_quantity': 50}\n",
      "{'P_Name': 'cake', 'Company_name': 'Dark Fantacy', 'P_price': 20, 'P_quantity': 80}\n",
      "{'P_Name': 'agarbati', 'Company_name': 'Madhukunj', 'P_price': 80, 'P_quantity': 100}\n",
      "{'P_Name': 'pickle', 'Company_name': 'priya_Cut_mango', 'P_price': 20, 'P_quantity': 80}\n",
      "{'P_Name': 'mixture', 'Company_name': 'haldiram', 'P_price': 140, 'P_quantity': 60}\n",
      "{'P_Name': 'bread', 'Company_name': 'amul', 'P_price': 20, 'P_quantity': 40}\n",
      "{'P_Name': 'amul cool', 'Company_name': 'amul', 'P_price': 24, 'P_quantity': 30}\n",
      "{'P_Name': 'ice_Creem', 'Company_name': 'Arun', 'P_price': 40, 'P_quantity': 30}\n",
      "{'P_Name': 'face wash', 'Company_name': 'ponds', 'P_price': 150, 'P_quantity': 50}\n",
      "{'P_Name': 'face creem', 'Company_name': 'fair&lovely', 'P_price': 200, 'P_quantity': 40}\n"
     ]
    }
   ],
   "source": [
    "for i in record:\n",
    "    print(record[i])\n",
    "    "
   ]
  },
  {
   "cell_type": "code",
   "execution_count": null,
   "metadata": {},
   "outputs": [],
   "source": []
  }
 ],
 "metadata": {
  "kernelspec": {
   "display_name": "Python 3",
   "language": "python",
   "name": "python3"
  },
  "language_info": {
   "codemirror_mode": {
    "name": "ipython",
    "version": 3
   },
   "file_extension": ".py",
   "mimetype": "text/x-python",
   "name": "python",
   "nbconvert_exporter": "python",
   "pygments_lexer": "ipython3",
   "version": "3.8.5"
  }
 },
 "nbformat": 4,
 "nbformat_minor": 4
}
